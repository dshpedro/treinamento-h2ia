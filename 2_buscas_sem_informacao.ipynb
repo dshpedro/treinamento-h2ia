{
  "nbformat": 4,
  "nbformat_minor": 0,
  "metadata": {
    "colab": {
      "provenance": [],
      "include_colab_link": true
    },
    "kernelspec": {
      "name": "python3",
      "display_name": "Python 3"
    },
    "language_info": {
      "name": "python"
    }
  },
  "cells": [
    {
      "cell_type": "markdown",
      "metadata": {
        "id": "view-in-github",
        "colab_type": "text"
      },
      "source": [
        "<a href=\"https://colab.research.google.com/github/dshpedro/treinamento-h2ia/blob/main/2_buscas_sem_informacao.ipynb\" target=\"_parent\"><img src=\"https://colab.research.google.com/assets/colab-badge.svg\" alt=\"Open In Colab\"/></a>"
      ]
    },
    {
      "cell_type": "markdown",
      "metadata": {
        "id": "21uUELma0562"
      },
      "source": [
        "# O Problema\n",
        "Sliding Puzzle - Bloco Deslizante"
      ]
    },
    {
      "cell_type": "code",
      "metadata": {
        "id": "duRbJW3rz01L",
        "colab": {
          "base_uri": "https://localhost:8080/",
          "height": 218
        },
        "outputId": "e774d685-3f4f-4c2a-f132-9560704ade7d"
      },
      "source": [
        "# !wget -qq https://miro.medium.com/max/700/1*W7jg4GmEjGBypd9WPktasQ.gif\n",
        "from IPython.display import Image\n",
        "Image(url='https://miro.medium.com/max/700/1*W7jg4GmEjGBypd9WPktasQ.gif',width=200)"
      ],
      "execution_count": null,
      "outputs": [
        {
          "output_type": "execute_result",
          "data": {
            "text/html": [
              "<img src=\"https://miro.medium.com/max/700/1*W7jg4GmEjGBypd9WPktasQ.gif\" width=\"200\"/>"
            ],
            "text/plain": [
              "<IPython.core.display.Image object>"
            ]
          },
          "metadata": {},
          "execution_count": 1
        }
      ]
    },
    {
      "cell_type": "markdown",
      "metadata": {
        "id": "f6TPxqB-1Cwx"
      },
      "source": [
        "# Resolver o quebra-cabeças usando Buscas"
      ]
    },
    {
      "cell_type": "markdown",
      "source": [
        "## Controle"
      ],
      "metadata": {
        "id": "gimmoqLSp8Ox"
      }
    },
    {
      "cell_type": "code",
      "source": [
        "import numpy as np\n",
        "from collections import deque\n",
        "import copy\n",
        "import time"
      ],
      "metadata": {
        "id": "3qA-RFJJEh54"
      },
      "execution_count": null,
      "outputs": []
    },
    {
      "cell_type": "code",
      "source": [
        "class Puzzle:\n",
        "    def __init__(self, state=None):\n",
        "        self.zeroIndex = [1, 0]\n",
        "        self.initialState = state\n",
        "        self.goalState = np.array([[1, 2, 3], [4, 5, 6], [7, 8, 0]])\n",
        "\n",
        "    def random(self):\n",
        "        rng = np.random.default_rng()\n",
        "        ss = np.arange(9).reshape(3, 3)\n",
        "        rng.shuffle(ss)\n",
        "        rng.shuffle(ss, 1)\n",
        "        self.initialState = ss\n",
        "\n",
        "    def goalTest(self, state):\n",
        "        return np.array_equal(state, self.goalState)\n",
        "\n",
        "    def actions(self, state):\n",
        "        # (l)eft (d)own (u)p (r)ight\n",
        "        actions = np.array([[\"dr\", \"ldr\", \"ld\"],\n",
        "                            [\"dur\", \"ldur\", \"ldu\"],\n",
        "                            [\"ur\", \"lur\",  \"lu\"]])\n",
        "        zeroIndex = np.where(state == 0)\n",
        "        return actions[zeroIndex][0] # string of legal actions\n",
        "\n",
        "    def result(self, state, action):\n",
        "        zeroIndex = np.where(state == 0)\n",
        "        mov = {\n",
        "        'l': (0, -1),  # (l)eft\n",
        "        'd': (1, 0),   # (d)own\n",
        "        'u': (-1, 0),  # (u)p\n",
        "        'r': (0, 1)    # (r)ight\n",
        "        }\n",
        "        zeroIndexNdarray = np.column_stack(zeroIndex).flatten()\n",
        "        swapIndex = tuple( zeroIndexNdarray+ mov[action])\n",
        "        s = copy.deepcopy(state)\n",
        "        s[zeroIndex], s[swapIndex] = s[swapIndex], s[zeroIndex]\n",
        "        return s"
      ],
      "metadata": {
        "id": "McKjYhn6MAnK"
      },
      "execution_count": null,
      "outputs": []
    },
    {
      "cell_type": "code",
      "source": [
        "class Node:\n",
        "    def __init__(self, state=None, parent=None):\n",
        "        self.state = state\n",
        "        self.parent = parent\n",
        "        self.action = None\n",
        "        self.child = []\n",
        "        self.zeroIndex = np.where(state == 0);"
      ],
      "metadata": {
        "id": "2fIBXptKShTL"
      },
      "execution_count": null,
      "outputs": []
    },
    {
      "cell_type": "code",
      "source": [
        "nodes = 1\n",
        "def childNode(problem, parent, action):\n",
        "    child = Node()\n",
        "    child.state = problem.result(parent.state, action)\n",
        "    child.parent = parent\n",
        "    child.action = action\n",
        "    global nodes\n",
        "    nodes += 1\n",
        "    return child"
      ],
      "metadata": {
        "id": "VK2nFelAB5yx"
      },
      "execution_count": null,
      "outputs": []
    },
    {
      "cell_type": "code",
      "source": [
        "def solution(node):\n",
        "    path = [node]\n",
        "    while node.parent != None:\n",
        "        path.append(node.parent)\n",
        "        node = node.parent\n",
        "    path.reverse()\n",
        "    return path"
      ],
      "metadata": {
        "id": "-cCP8x7ZL0sC"
      },
      "execution_count": null,
      "outputs": []
    },
    {
      "cell_type": "code",
      "source": [
        "def solve(problem, search, limit=1):\n",
        "    if search == \"bfs\":\n",
        "        return breadthFirstSearch(problem)\n",
        "    if search == \"dls\":\n",
        "        return depthLimitedSearch(problem, limit)\n",
        "    if search == \"ids\":\n",
        "        return iterativeDeepeningSearch(problem)"
      ],
      "metadata": {
        "id": "KhKu3AYvFITd"
      },
      "execution_count": null,
      "outputs": []
    },
    {
      "cell_type": "markdown",
      "source": [
        "## Seletor de puzzle"
      ],
      "metadata": {
        "id": "OBVyBZ2Vr7jy"
      }
    },
    {
      "cell_type": "code",
      "source": [
        "solvableState = np.array([[1, 8, 2], [0, 4, 3], [7, 6, 5]])\n",
        "unsolvableState = np.array([[1, 8, 2], [0, 4, 3], [7, 6, 4]])\n",
        "puzzle = Puzzle(unsolvableState)\n",
        "#puzzle.random"
      ],
      "metadata": {
        "id": "ePkse2P1FMLq"
      },
      "execution_count": null,
      "outputs": []
    },
    {
      "cell_type": "markdown",
      "metadata": {
        "id": "o6ZClGCC1RxB"
      },
      "source": [
        "## Busca em largura\n",
        "Busca em grafos"
      ]
    },
    {
      "cell_type": "code",
      "metadata": {
        "id": "cmJfg8CF0Jwc"
      },
      "source": [
        "def breadthFirstSearch(problem):\n",
        "    node = Node(problem.initialState)\n",
        "    if problem.goalTest(node.state):\n",
        "        return solution(node)\n",
        "    frontier = deque([node])\n",
        "    explored = set()\n",
        "    while True:\n",
        "        if not bool(frontier):\n",
        "            return \"failure\"\n",
        "        node = frontier.popleft()\n",
        "        explored.add(tuple(tuple(row) for row in node.state))\n",
        "        for action in problem.actions(node.state):\n",
        "            child = childNode(problem, node, action)\n",
        "            tupleChildState = tuple(tuple(row) for row in child.state)\n",
        "            if (tupleChildState not in explored) or (tupleChildState not in frontier):\n",
        "                if problem.goalTest(child.state):\n",
        "                    return solution(child)\n",
        "                frontier.append(child)"
      ],
      "execution_count": null,
      "outputs": []
    },
    {
      "cell_type": "code",
      "source": [
        "startTime = time.time()\n",
        "solvedPath = solve(puzzle, \"bfs\")\n",
        "endTime = time.time()\n",
        "elapsedTime = endTime - startTime\n",
        "print(\"%.2fs elapsed\" % (elapsedTime))\n",
        "print(str(nodes) + \" nodes\")\n",
        "for node in solvedPath:\n",
        "    print(node.state)\n",
        "    print()"
      ],
      "metadata": {
        "id": "UgcjXqm7E75z",
        "colab": {
          "base_uri": "https://localhost:8080/",
          "height": 391
        },
        "outputId": "059026a7-bdca-4cde-eb89-a10d3d63cd23"
      },
      "execution_count": null,
      "outputs": [
        {
          "output_type": "error",
          "ename": "KeyboardInterrupt",
          "evalue": "",
          "traceback": [
            "\u001b[0;31m---------------------------------------------------------------------------\u001b[0m",
            "\u001b[0;31mKeyboardInterrupt\u001b[0m                         Traceback (most recent call last)",
            "\u001b[0;32m<ipython-input-10-e644885ea615>\u001b[0m in \u001b[0;36m<cell line: 2>\u001b[0;34m()\u001b[0m\n\u001b[1;32m      1\u001b[0m \u001b[0mstartTime\u001b[0m \u001b[0;34m=\u001b[0m \u001b[0mtime\u001b[0m\u001b[0;34m.\u001b[0m\u001b[0mtime\u001b[0m\u001b[0;34m(\u001b[0m\u001b[0;34m)\u001b[0m\u001b[0;34m\u001b[0m\u001b[0;34m\u001b[0m\u001b[0m\n\u001b[0;32m----> 2\u001b[0;31m \u001b[0msolvedPath\u001b[0m \u001b[0;34m=\u001b[0m \u001b[0msolve\u001b[0m\u001b[0;34m(\u001b[0m\u001b[0mpuzzle\u001b[0m\u001b[0;34m,\u001b[0m \u001b[0;34m\"bfs\"\u001b[0m\u001b[0;34m)\u001b[0m\u001b[0;34m\u001b[0m\u001b[0;34m\u001b[0m\u001b[0m\n\u001b[0m\u001b[1;32m      3\u001b[0m \u001b[0mendTime\u001b[0m \u001b[0;34m=\u001b[0m \u001b[0mtime\u001b[0m\u001b[0;34m.\u001b[0m\u001b[0mtime\u001b[0m\u001b[0;34m(\u001b[0m\u001b[0;34m)\u001b[0m\u001b[0;34m\u001b[0m\u001b[0;34m\u001b[0m\u001b[0m\n\u001b[1;32m      4\u001b[0m \u001b[0melapsedTime\u001b[0m \u001b[0;34m=\u001b[0m \u001b[0mendTime\u001b[0m \u001b[0;34m-\u001b[0m \u001b[0mstartTime\u001b[0m\u001b[0;34m\u001b[0m\u001b[0;34m\u001b[0m\u001b[0m\n\u001b[1;32m      5\u001b[0m \u001b[0mprint\u001b[0m\u001b[0;34m(\u001b[0m\u001b[0;34m\"%.2fs elapsed\"\u001b[0m \u001b[0;34m%\u001b[0m \u001b[0;34m(\u001b[0m\u001b[0melapsedTime\u001b[0m\u001b[0;34m)\u001b[0m\u001b[0;34m)\u001b[0m\u001b[0;34m\u001b[0m\u001b[0;34m\u001b[0m\u001b[0m\n",
            "\u001b[0;32m<ipython-input-7-4b5d193e02fd>\u001b[0m in \u001b[0;36msolve\u001b[0;34m(problem, search, limit)\u001b[0m\n\u001b[1;32m      1\u001b[0m \u001b[0;32mdef\u001b[0m \u001b[0msolve\u001b[0m\u001b[0;34m(\u001b[0m\u001b[0mproblem\u001b[0m\u001b[0;34m,\u001b[0m \u001b[0msearch\u001b[0m\u001b[0;34m,\u001b[0m \u001b[0mlimit\u001b[0m\u001b[0;34m=\u001b[0m\u001b[0;36m1\u001b[0m\u001b[0;34m)\u001b[0m\u001b[0;34m:\u001b[0m\u001b[0;34m\u001b[0m\u001b[0;34m\u001b[0m\u001b[0m\n\u001b[1;32m      2\u001b[0m     \u001b[0;32mif\u001b[0m \u001b[0msearch\u001b[0m \u001b[0;34m==\u001b[0m \u001b[0;34m\"bfs\"\u001b[0m\u001b[0;34m:\u001b[0m\u001b[0;34m\u001b[0m\u001b[0;34m\u001b[0m\u001b[0m\n\u001b[0;32m----> 3\u001b[0;31m         \u001b[0;32mreturn\u001b[0m \u001b[0mbreadthFirstSearch\u001b[0m\u001b[0;34m(\u001b[0m\u001b[0mproblem\u001b[0m\u001b[0;34m)\u001b[0m\u001b[0;34m\u001b[0m\u001b[0;34m\u001b[0m\u001b[0m\n\u001b[0m\u001b[1;32m      4\u001b[0m     \u001b[0;32mif\u001b[0m \u001b[0msearch\u001b[0m \u001b[0;34m==\u001b[0m \u001b[0;34m\"dls\"\u001b[0m\u001b[0;34m:\u001b[0m\u001b[0;34m\u001b[0m\u001b[0;34m\u001b[0m\u001b[0m\n\u001b[1;32m      5\u001b[0m         \u001b[0;32mreturn\u001b[0m \u001b[0mdepthLimitedSearch\u001b[0m\u001b[0;34m(\u001b[0m\u001b[0mproblem\u001b[0m\u001b[0;34m,\u001b[0m \u001b[0mlimit\u001b[0m\u001b[0;34m)\u001b[0m\u001b[0;34m\u001b[0m\u001b[0;34m\u001b[0m\u001b[0m\n",
            "\u001b[0;32m<ipython-input-9-f0a3fbc23032>\u001b[0m in \u001b[0;36mbreadthFirstSearch\u001b[0;34m(problem)\u001b[0m\n\u001b[1;32m     14\u001b[0m             \u001b[0mtupleChildState\u001b[0m \u001b[0;34m=\u001b[0m \u001b[0mtuple\u001b[0m\u001b[0;34m(\u001b[0m\u001b[0mtuple\u001b[0m\u001b[0;34m(\u001b[0m\u001b[0mrow\u001b[0m\u001b[0;34m)\u001b[0m \u001b[0;32mfor\u001b[0m \u001b[0mrow\u001b[0m \u001b[0;32min\u001b[0m \u001b[0mchild\u001b[0m\u001b[0;34m.\u001b[0m\u001b[0mstate\u001b[0m\u001b[0;34m)\u001b[0m\u001b[0;34m\u001b[0m\u001b[0;34m\u001b[0m\u001b[0m\n\u001b[1;32m     15\u001b[0m             \u001b[0;32mif\u001b[0m \u001b[0;34m(\u001b[0m\u001b[0mtupleChildState\u001b[0m \u001b[0;32mnot\u001b[0m \u001b[0;32min\u001b[0m \u001b[0mexplored\u001b[0m\u001b[0;34m)\u001b[0m \u001b[0;32mor\u001b[0m \u001b[0;34m(\u001b[0m\u001b[0mtupleChildState\u001b[0m \u001b[0;32mnot\u001b[0m \u001b[0;32min\u001b[0m \u001b[0mfrontier\u001b[0m\u001b[0;34m)\u001b[0m\u001b[0;34m:\u001b[0m\u001b[0;34m\u001b[0m\u001b[0;34m\u001b[0m\u001b[0m\n\u001b[0;32m---> 16\u001b[0;31m                 \u001b[0;32mif\u001b[0m \u001b[0mproblem\u001b[0m\u001b[0;34m.\u001b[0m\u001b[0mgoalTest\u001b[0m\u001b[0;34m(\u001b[0m\u001b[0mchild\u001b[0m\u001b[0;34m.\u001b[0m\u001b[0mstate\u001b[0m\u001b[0;34m)\u001b[0m\u001b[0;34m:\u001b[0m\u001b[0;34m\u001b[0m\u001b[0;34m\u001b[0m\u001b[0m\n\u001b[0m\u001b[1;32m     17\u001b[0m                     \u001b[0;32mreturn\u001b[0m \u001b[0msolution\u001b[0m\u001b[0;34m(\u001b[0m\u001b[0mchild\u001b[0m\u001b[0;34m)\u001b[0m\u001b[0;34m\u001b[0m\u001b[0;34m\u001b[0m\u001b[0m\n\u001b[1;32m     18\u001b[0m                 \u001b[0mfrontier\u001b[0m\u001b[0;34m.\u001b[0m\u001b[0mappend\u001b[0m\u001b[0;34m(\u001b[0m\u001b[0mchild\u001b[0m\u001b[0;34m)\u001b[0m\u001b[0;34m\u001b[0m\u001b[0;34m\u001b[0m\u001b[0m\n",
            "\u001b[0;32m<ipython-input-3-1dd2459c6c4c>\u001b[0m in \u001b[0;36mgoalTest\u001b[0;34m(self, state)\u001b[0m\n\u001b[1;32m     12\u001b[0m         \u001b[0mself\u001b[0m\u001b[0;34m.\u001b[0m\u001b[0minitialState\u001b[0m \u001b[0;34m=\u001b[0m \u001b[0mss\u001b[0m\u001b[0;34m\u001b[0m\u001b[0;34m\u001b[0m\u001b[0m\n\u001b[1;32m     13\u001b[0m \u001b[0;34m\u001b[0m\u001b[0m\n\u001b[0;32m---> 14\u001b[0;31m     \u001b[0;32mdef\u001b[0m \u001b[0mgoalTest\u001b[0m\u001b[0;34m(\u001b[0m\u001b[0mself\u001b[0m\u001b[0;34m,\u001b[0m \u001b[0mstate\u001b[0m\u001b[0;34m)\u001b[0m\u001b[0;34m:\u001b[0m\u001b[0;34m\u001b[0m\u001b[0;34m\u001b[0m\u001b[0m\n\u001b[0m\u001b[1;32m     15\u001b[0m         \u001b[0;32mreturn\u001b[0m \u001b[0mnp\u001b[0m\u001b[0;34m.\u001b[0m\u001b[0marray_equal\u001b[0m\u001b[0;34m(\u001b[0m\u001b[0mstate\u001b[0m\u001b[0;34m,\u001b[0m \u001b[0mself\u001b[0m\u001b[0;34m.\u001b[0m\u001b[0mgoalState\u001b[0m\u001b[0;34m)\u001b[0m\u001b[0;34m\u001b[0m\u001b[0;34m\u001b[0m\u001b[0m\n\u001b[1;32m     16\u001b[0m \u001b[0;34m\u001b[0m\u001b[0m\n",
            "\u001b[0;31mKeyboardInterrupt\u001b[0m: "
          ]
        }
      ]
    },
    {
      "cell_type": "markdown",
      "metadata": {
        "id": "zCCoey-J1U5t"
      },
      "source": [
        "## Busca em Profundidade\n",
        "Busca em árvore"
      ]
    },
    {
      "cell_type": "markdown",
      "source": [
        "### Busca em profundidae limitada"
      ],
      "metadata": {
        "id": "0lOmxhz4pWVL"
      }
    },
    {
      "cell_type": "code",
      "source": [
        "def depthLimitedSearch(problem, limit):\n",
        "    node = Node(problem.initialState)\n",
        "    return recursiveDLS(node, problem, limit);\n",
        "\n",
        "def recursiveDLS(node, problem, limit):\n",
        "    if problem.goalTest(node.state):\n",
        "        return solution(node)\n",
        "    else:\n",
        "        if limit == 0:\n",
        "            return \"cutoff\"\n",
        "        else:\n",
        "            cutoffOccured = False\n",
        "        for action in problem.actions(node.state):\n",
        "            child = childNode(problem, node, action)\n",
        "            result = recursiveDLS(child, problem, limit - 1)\n",
        "            if result == \"cutoff\":\n",
        "                cutoffOccured = True\n",
        "            else:\n",
        "                if result != \"failure\":\n",
        "                    return result\n",
        "        if cutoffOccured:\n",
        "            return \"cutoff\"\n",
        "        else:\n",
        "            return \"failure\""
      ],
      "metadata": {
        "id": "2drGpCSUMU1z"
      },
      "execution_count": null,
      "outputs": []
    },
    {
      "cell_type": "markdown",
      "source": [
        "### Busca em profundidade iterativa"
      ],
      "metadata": {
        "id": "bUwuvbpCmYbR"
      }
    },
    {
      "cell_type": "code",
      "source": [
        "def iterativeDeepeningSearch(problem):\n",
        "    for depth in range(20):\n",
        "        result = depthLimitedSearch(problem, depth)\n",
        "        if result != \"cutoff\":\n",
        "            return result"
      ],
      "metadata": {
        "id": "KTJ7uA1Jl0oR"
      },
      "execution_count": null,
      "outputs": []
    },
    {
      "cell_type": "code",
      "source": [
        "nodes = 1\n",
        "startTime = time.time()\n",
        "solvedPath = solve(puzzle, \"ids\")\n",
        "endTime = time.time()\n",
        "elapsedTime = endTime - startTime\n",
        "print(\"%.2fs elapsed\" % (elapsedTime))\n",
        "print(str(nodes) + \" nodes\")\n",
        "if solvedPath != \"failure\":\n",
        "    for node in solvedPath:\n",
        "        print(node.state)\n",
        "        print()"
      ],
      "metadata": {
        "id": "ZNBnfu55mfYC"
      },
      "execution_count": null,
      "outputs": []
    },
    {
      "cell_type": "markdown",
      "metadata": {
        "id": "rXU5HkCd1ZPu"
      },
      "source": [
        "## Discorra sobre o desempenho dos métodos em questões de:\n",
        "\n",
        "\n",
        "1.   Consumo de memória\n",
        "2.   Processamento\n",
        "\n"
      ]
    },
    {
      "cell_type": "markdown",
      "source": [
        "### Consumo de memória"
      ],
      "metadata": {
        "id": "qpEFfxo0Z7hd"
      }
    },
    {
      "cell_type": "markdown",
      "source": [
        "#### Busca em largura\n",
        "Crescimento exponencial com o aumento da profundidade. \\\n",
        "\n",
        "O(b^d) \\\n",
        "b = fator de bifurcação \\\n",
        "d = profundidade da solução menos profunda \\\n",
        "\n",
        "\n",
        "#### Busca em profundidade\n",
        "Crescimento linear com o incremento da profundidade máxima \\\n",
        "\n",
        "O(b*m) \\\n",
        "b = fator de bifuracação \\\n",
        "m = profundidade máxima \\"
      ],
      "metadata": {
        "id": "QvQYK7qpDFyJ"
      }
    },
    {
      "cell_type": "markdown",
      "source": [
        "### Processamento"
      ],
      "metadata": {
        "id": "V0CHAWJfaHwE"
      }
    },
    {
      "cell_type": "markdown",
      "source": [
        "#### Busca em largura\n",
        "Crescimento exponencial com o aumento da profundidade. \\\n",
        "\n",
        "O(b^d) \\\n",
        "b = fator de bifurcação \\\n",
        "d = profundidade da solução menos profunda \\\n",
        "\n",
        "\n",
        "#### Busca em profundidade\n",
        "Crescimento exponencial com o aumento da profundidade. \\\n",
        "\n",
        "o(b^m) \\\n",
        "b = fator de bifuracação \\\n",
        "m = profundidade máxima \\"
      ],
      "metadata": {
        "id": "5P9WpCKPEQnm"
      }
    },
    {
      "cell_type": "markdown",
      "source": [
        "### Comparação"
      ],
      "metadata": {
        "id": "eWYMMheFE4-C"
      }
    },
    {
      "cell_type": "markdown",
      "source": [
        "Observamos que a busca em profundidade aparentemente apresenta apenas vantagens em relação a em largura, porém ela sempre tende a ir a profundidade máxima, o que pode torna-la não completa se atingirmos um ciclo. No caso do problema dos blocos deslizantes por exemplo, mesmo que uma solução fosse encontrada, é improvável que seja a com o menor número de passos. \\\n",
        "Para diminuir o número de passos utilizamos a busca em profundidade iterativa, que incrementa a profundidade limite da busca enquanto não for encontrada uma solução com o número de passos igual à profundidade atual, dessa forma evitamos também ciclos infinitos e a busca se torna completa.\n",
        "\n",
        "Nota: Estes comentários se referem às versões de busca em árvore dos algoritmos mencionados."
      ],
      "metadata": {
        "id": "7mfAHDBWFCRq"
      }
    }
  ]
}