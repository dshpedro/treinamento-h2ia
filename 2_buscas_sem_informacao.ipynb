{
  "nbformat": 4,
  "nbformat_minor": 0,
  "metadata": {
    "colab": {
      "provenance": []
    },
    "kernelspec": {
      "name": "python3",
      "display_name": "Python 3"
    },
    "language_info": {
      "name": "python"
    }
  },
  "cells": [
    {
      "cell_type": "markdown",
      "metadata": {
        "id": "21uUELma0562"
      },
      "source": [
        "# O Problema\n",
        "Sliding Puzzle - Bloco Deslizante"
      ]
    },
    {
      "cell_type": "code",
      "metadata": {
        "colab": {
          "base_uri": "https://localhost:8080/",
          "height": 218
        },
        "id": "duRbJW3rz01L",
        "outputId": "b3fddfb0-4795-47cd-9a3f-21d7369cee07"
      },
      "source": [
        "# !wget -qq https://miro.medium.com/max/700/1*W7jg4GmEjGBypd9WPktasQ.gif\n",
        "from IPython.display import Image\n",
        "Image(url='https://miro.medium.com/max/700/1*W7jg4GmEjGBypd9WPktasQ.gif',width=200)"
      ],
      "execution_count": 34,
      "outputs": [
        {
          "output_type": "execute_result",
          "data": {
            "text/html": [
              "<img src=\"https://miro.medium.com/max/700/1*W7jg4GmEjGBypd9WPktasQ.gif\" width=\"200\"/>"
            ],
            "text/plain": [
              "<IPython.core.display.Image object>"
            ]
          },
          "metadata": {},
          "execution_count": 34
        }
      ]
    },
    {
      "cell_type": "markdown",
      "metadata": {
        "id": "f6TPxqB-1Cwx"
      },
      "source": [
        "# Resolver o quebra-cabeças usando Buscas"
      ]
    },
    {
      "cell_type": "code",
      "source": [
        "import numpy as np\n",
        "from collections import deque\n",
        "import copy"
      ],
      "metadata": {
        "id": "3qA-RFJJEh54"
      },
      "execution_count": 35,
      "outputs": []
    },
    {
      "cell_type": "code",
      "source": [
        "class Puzzle:\n",
        "    def __init__(self, state=None):\n",
        "        self.zeroIndex = [1, 0]\n",
        "        self.initialState = state\n",
        "        self.goalState = np.array([[1, 2, 3], [4, 5, 6], [7, 8, 0]])\n",
        "\n",
        "    def random(self):\n",
        "        rng = np.random.default_rng()\n",
        "        ss = np.arange(9).reshape(3, 3)\n",
        "        rng.shuffle(ss)\n",
        "        rng.shuffle(ss, 1)\n",
        "        self.initialState = ss\n",
        "\n",
        "    def goalTest(self, state):\n",
        "        return np.array_equal(state, self.goalState)\n",
        "\n",
        "    def actions(self, state):\n",
        "        # (l)eft (d)own (u)p (r)ight\n",
        "        actions = np.array([[\"dr\", \"ldr\", \"ld\"],\n",
        "                            [\"dur\", \"ldur\", \"ldu\"],\n",
        "                            [\"ur\", \"lur\",  \"lu\"]])\n",
        "        zeroIndex = np.where(state == 0)\n",
        "        return actions[zeroIndex][0] # string of legal actions\n",
        "\n",
        "    def result(self, state, action):\n",
        "        zeroIndex = np.where(state == 0)\n",
        "        mov = {\n",
        "        'l': (0, -1),  # (l)eft\n",
        "        'd': (1, 0),   # (d)own\n",
        "        'u': (-1, 0),  # (u)p\n",
        "        'r': (0, 1)    # (r)ight\n",
        "        }\n",
        "        zeroIndexNdarray = np.column_stack(zeroIndex).flatten()\n",
        "        swapIndex = tuple( zeroIndexNdarray+ mov[action])\n",
        "        s = copy.deepcopy(state)\n",
        "        s[zeroIndex], s[swapIndex] = s[swapIndex], s[zeroIndex]\n",
        "        return s"
      ],
      "metadata": {
        "id": "McKjYhn6MAnK"
      },
      "execution_count": 36,
      "outputs": []
    },
    {
      "cell_type": "code",
      "source": [
        "class Node:\n",
        "    def __init__(self, state=None, parent=None):\n",
        "        self.state = state\n",
        "        self.parent = parent\n",
        "        self.action = None\n",
        "        self.child = []"
      ],
      "metadata": {
        "id": "2fIBXptKShTL"
      },
      "execution_count": 37,
      "outputs": []
    },
    {
      "cell_type": "code",
      "source": [
        "def childNode(problem, parent, action):\n",
        "    child = Node()\n",
        "    child.state = problem.result(parent.state, action)\n",
        "    child.parent = parent\n",
        "    child.action = action\n",
        "    return child"
      ],
      "metadata": {
        "id": "VK2nFelAB5yx"
      },
      "execution_count": 38,
      "outputs": []
    },
    {
      "cell_type": "code",
      "source": [
        "def solution(node):\n",
        "    path = [node]\n",
        "    while node.parent != None:\n",
        "        path.append(node.parent)\n",
        "        node = node.parent\n",
        "    path.reverse()\n",
        "    return path"
      ],
      "metadata": {
        "id": "-cCP8x7ZL0sC"
      },
      "execution_count": 39,
      "outputs": []
    },
    {
      "cell_type": "code",
      "source": [
        "def solve(problem, search):\n",
        "    if search == \"bfs\":\n",
        "        return breadthFirstSearch(problem)\n",
        "    if search == \"dps\":\n",
        "        return depthFirstSearch(problem)"
      ],
      "metadata": {
        "id": "KhKu3AYvFITd"
      },
      "execution_count": 40,
      "outputs": []
    },
    {
      "cell_type": "code",
      "source": [
        "solvableState = np.array([[1, 8, 2], [0, 4, 3], [7, 6, 5]])\n",
        "puzzle = Puzzle(solvableState)"
      ],
      "metadata": {
        "id": "ePkse2P1FMLq"
      },
      "execution_count": 41,
      "outputs": []
    },
    {
      "cell_type": "markdown",
      "metadata": {
        "id": "o6ZClGCC1RxB"
      },
      "source": [
        "## Busca em largura"
      ]
    },
    {
      "cell_type": "code",
      "metadata": {
        "id": "cmJfg8CF0Jwc"
      },
      "source": [
        "def breadthFirstSearch(problem):\n",
        "    node = Node(puzzle.initialState)\n",
        "    if problem.goalTest(node.state):\n",
        "        return solution(node)\n",
        "    frontier = deque([node])\n",
        "    explored = set()\n",
        "    while True:\n",
        "        if not bool(frontier):\n",
        "            return \"Failure\"\n",
        "        node = frontier.popleft()\n",
        "        explored.add(tuple(tuple(row) for row in node.state))\n",
        "        for action in problem.actions(node.state):\n",
        "            child = childNode(problem, node, action)\n",
        "            tupleChildState = tuple(tuple(row) for row in child.state)\n",
        "            if (tupleChildState not in explored) or (tupleChildState not in frontier):\n",
        "                if problem.goalTest(child.state):\n",
        "                    return solution(child)\n",
        "                frontier.append(child)"
      ],
      "execution_count": 42,
      "outputs": []
    },
    {
      "cell_type": "code",
      "source": [
        "solution = solve(puzzle, \"bfs\")\n",
        "for node in solution:\n",
        "    print(node.state)\n",
        "    print()"
      ],
      "metadata": {
        "colab": {
          "base_uri": "https://localhost:8080/"
        },
        "id": "UgcjXqm7E75z",
        "outputId": "dffbf479-8d66-4b3f-bb6f-205d5f04e784"
      },
      "execution_count": 43,
      "outputs": [
        {
          "output_type": "stream",
          "name": "stdout",
          "text": [
            "[[1 8 2]\n",
            " [0 4 3]\n",
            " [7 6 5]]\n",
            "\n",
            "[[1 8 2]\n",
            " [4 0 3]\n",
            " [7 6 5]]\n",
            "\n",
            "[[1 0 2]\n",
            " [4 8 3]\n",
            " [7 6 5]]\n",
            "\n",
            "[[1 2 0]\n",
            " [4 8 3]\n",
            " [7 6 5]]\n",
            "\n",
            "[[1 2 3]\n",
            " [4 8 0]\n",
            " [7 6 5]]\n",
            "\n",
            "[[1 2 3]\n",
            " [4 8 5]\n",
            " [7 6 0]]\n",
            "\n",
            "[[1 2 3]\n",
            " [4 8 5]\n",
            " [7 0 6]]\n",
            "\n",
            "[[1 2 3]\n",
            " [4 0 5]\n",
            " [7 8 6]]\n",
            "\n",
            "[[1 2 3]\n",
            " [4 5 0]\n",
            " [7 8 6]]\n",
            "\n",
            "[[1 2 3]\n",
            " [4 5 6]\n",
            " [7 8 0]]\n",
            "\n"
          ]
        }
      ]
    },
    {
      "cell_type": "markdown",
      "metadata": {
        "id": "zCCoey-J1U5t"
      },
      "source": [
        "## Busca em Profundidade"
      ]
    },
    {
      "cell_type": "code",
      "metadata": {
        "id": "XJkS_j3m8A4x"
      },
      "source": [
        "def depthFirstSearch(problem):\n",
        "    return 0"
      ],
      "execution_count": 44,
      "outputs": []
    },
    {
      "cell_type": "markdown",
      "metadata": {
        "id": "rXU5HkCd1ZPu"
      },
      "source": [
        "## Discorra sobre o desempenho dos métodos em questões de:\n",
        "\n",
        "\n",
        "1.   Consumo de memória\n",
        "2.   Processamento\n",
        "\n"
      ]
    },
    {
      "cell_type": "code",
      "metadata": {
        "id": "-M6rztKu1W1j"
      },
      "source": [],
      "execution_count": 44,
      "outputs": []
    }
  ]
}