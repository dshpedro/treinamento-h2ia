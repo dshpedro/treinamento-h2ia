{
  "nbformat": 4,
  "nbformat_minor": 0,
  "metadata": {
    "colab": {
      "provenance": [],
      "authorship_tag": "ABX9TyNQGk5Vkadsq6yJ+W1XJtYE"
    },
    "kernelspec": {
      "name": "python3",
      "display_name": "Python 3"
    },
    "language_info": {
      "name": "python"
    }
  },
  "cells": [
    {
      "cell_type": "markdown",
      "source": [
        "# 0 - Pre-week\n",
        "Práticas com Numpy e Matplotlib"
      ],
      "metadata": {
        "id": "Y6eseRYE0jlC"
      }
    },
    {
      "cell_type": "markdown",
      "source": [
        "### Numpy\n",
        "Biblioteca para computação científica em Python. Nos possibilita a realização de diversas manipulações numéricas através de seus arrays multidimensionais.\n",
        "\n",
        "Para a utilizarmos devemos primeiro importar ela em nosso código:"
      ],
      "metadata": {
        "id": "0sgpmAJR95nB"
      }
    },
    {
      "cell_type": "code",
      "execution_count": 168,
      "metadata": {
        "id": "PvogoKywz5ly"
      },
      "outputs": [],
      "source": [
        "import numpy as np"
      ]
    },
    {
      "cell_type": "markdown",
      "source": [
        "Usualmente é utilizado o alias \"np\" para nos referirmos ao numpy, porém isto não é estritamente necessário."
      ],
      "metadata": {
        "id": "UG9poaM52-Oj"
      }
    },
    {
      "cell_type": "markdown",
      "source": [
        "### Matplotlib\n",
        "Biblioteca para a visualização de dados em forma gráfica, será utilizada aqui para observamos visualmente as transformações matemáticas que realizaremos com o numpy."
      ],
      "metadata": {
        "id": "dF4iv0v69UY1"
      }
    },
    {
      "cell_type": "code",
      "source": [
        "import matplotlib.pyplot as plt\n",
        "%matplotlib inline"
      ],
      "metadata": {
        "id": "invFxxLq9xux"
      },
      "execution_count": 169,
      "outputs": []
    },
    {
      "cell_type": "markdown",
      "source": [
        "De forma semelhante, \"plt\" é o alias comumente utilizado com este módulo. A segunda linha do código certifica que grafícos sejam visíveis no caderno."
      ],
      "metadata": {
        "id": "KoOxyFw1-cvS"
      }
    },
    {
      "cell_type": "markdown",
      "source": [
        "### Arrays\n",
        "Podemos criar um array descrevendo uma lista diretamente ao método."
      ],
      "metadata": {
        "id": "U7P9Oq0R3Sqg"
      }
    },
    {
      "cell_type": "code",
      "source": [
        "fib = np.array([1, 1, 2, 3, 5, 8, 13, 21, 34, 55])\n",
        "print(fib)"
      ],
      "metadata": {
        "id": "OfbXawiA30E0",
        "colab": {
          "base_uri": "https://localhost:8080/"
        },
        "outputId": "5d9c46a3-e314-454d-81fc-366d98fbfbce"
      },
      "execution_count": 170,
      "outputs": [
        {
          "output_type": "stream",
          "name": "stdout",
          "text": [
            "[ 1  1  2  3  5  8 13 21 34 55]\n"
          ]
        }
      ]
    },
    {
      "cell_type": "markdown",
      "source": [
        "A lista acima se trata de uma parte sequência de Fibonacci. Através do uso do método plot, da Matplotlib, podemos visualizar esta sequência."
      ],
      "metadata": {
        "id": "8C4yJz1l_ju8"
      }
    },
    {
      "cell_type": "code",
      "source": [
        "plt.plot(fib)"
      ],
      "metadata": {
        "colab": {
          "base_uri": "https://localhost:8080/",
          "height": 447
        },
        "id": "zXfLgCgi_lFj",
        "outputId": "bc7a263b-582a-4925-c30f-9179cfb3a3a3"
      },
      "execution_count": 171,
      "outputs": [
        {
          "output_type": "execute_result",
          "data": {
            "text/plain": [
              "[<matplotlib.lines.Line2D at 0x7a0905649630>]"
            ]
          },
          "metadata": {},
          "execution_count": 171
        },
        {
          "output_type": "display_data",
          "data": {
            "text/plain": [
              "<Figure size 640x480 with 1 Axes>"
            ],
            "image/png": "[encoded data removed]"
          },
          "metadata": {}
        }
      ]
    },
    {
      "cell_type": "markdown",
      "source": [
        "Se por algum motivo necessitarmos multiplicar todos números deste array por um escalar, o numpy nos permite isto."
      ],
      "metadata": {
        "id": "Kk-99VTJ8zOT"
      }
    },
    {
      "cell_type": "code",
      "source": [
        "print(fib * 2)"
      ],
      "metadata": {
        "colab": {
          "base_uri": "https://localhost:8080/"
        },
        "id": "-TTw81Mb8oyQ",
        "outputId": "82e144a9-a491-47fb-e563-c13d28dd2286"
      },
      "execution_count": 172,
      "outputs": [
        {
          "output_type": "stream",
          "name": "stdout",
          "text": [
            "[  2   2   4   6  10  16  26  42  68 110]\n"
          ]
        }
      ]
    },
    {
      "cell_type": "markdown",
      "source": [
        "Também é possível realizarmos operações como essas em slices do array, e.g., digamos que queremos ver como gráfico da sequência se comporta quando os 5 primeiros termos da sequência são elevados ao quadrado."
      ],
      "metadata": {
        "id": "5Gyet5bAA-ki"
      }
    },
    {
      "cell_type": "code",
      "source": [
        "print(fib)\n",
        "a = fib[:5] # slice de fib\n",
        "print(a)\n",
        "\n",
        "a **= 2\n",
        "print(a)\n",
        "print(fib)"
      ],
      "metadata": {
        "colab": {
          "base_uri": "https://localhost:8080/"
        },
        "id": "_MNVtS5gwESl",
        "outputId": "96620657-d228-4fca-9477-3cd207b9a6f4"
      },
      "execution_count": 173,
      "outputs": [
        {
          "output_type": "stream",
          "name": "stdout",
          "text": [
            "[ 1  1  2  3  5  8 13 21 34 55]\n",
            "[1 1 2 3 5]\n",
            "[ 1  1  4  9 25]\n",
            "[ 1  1  4  9 25  8 13 21 34 55]\n"
          ]
        }
      ]
    },
    {
      "cell_type": "markdown",
      "source": [
        "Acima podemos observar que quando manipulamos um slice de fib os dados originais também são modificados da mesma forma, isto porque slices são apenas um visão particionada (em fatias) dos mesmos dados."
      ],
      "metadata": {
        "id": "uj6YMcrrDP0C"
      }
    },
    {
      "cell_type": "code",
      "source": [
        "plt.plot(fib)"
      ],
      "metadata": {
        "colab": {
          "base_uri": "https://localhost:8080/",
          "height": 447
        },
        "id": "fmnWTaN3C4vZ",
        "outputId": "be33ae14-9747-4c8c-e283-89c7d9d1ee93"
      },
      "execution_count": 174,
      "outputs": [
        {
          "output_type": "execute_result",
          "data": {
            "text/plain": [
              "[<matplotlib.lines.Line2D at 0x7a09056b9ba0>]"
            ]
          },
          "metadata": {},
          "execution_count": 174
        },
        {
          "output_type": "display_data",
          "data": {
            "text/plain": [
              "<Figure size 640x480 with 1 Axes>"
            ],
            "image/png": "[encoded data removed]"
          },
          "metadata": {}
        }
      ]
    }
  ]
}