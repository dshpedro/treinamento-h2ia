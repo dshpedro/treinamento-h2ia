{
  "nbformat": 4,
  "nbformat_minor": 0,
  "metadata": {
    "colab": {
      "provenance": [],
      "authorship_tag": "ABX9TyNtTl/dhrvh4dzizvAFuJsM",
      "include_colab_link": true
    },
    "kernelspec": {
      "name": "python3",
      "display_name": "Python 3"
    },
    "language_info": {
      "name": "python"
    }
  },
  "cells": [
    {
      "cell_type": "markdown",
      "metadata": {
        "id": "view-in-github",
        "colab_type": "text"
      },
      "source": [
        "<a href=\"https://colab.research.google.com/github/dshpedro/treinamento-h2ia/blob/main/0_pre_week.ipynb\" target=\"_parent\"><img src=\"https://colab.research.google.com/assets/colab-badge.svg\" alt=\"Open In Colab\"/></a>"
      ]
    },
    {
      "cell_type": "markdown",
      "source": [
        "# 0 - Pre-week\n",
        "Práticas com Numpy e Matplotlib"
      ],
      "metadata": {
        "id": "Y6eseRYE0jlC"
      }
    },
    {
      "cell_type": "markdown",
      "source": [
        "### Numpy\n",
        "Biblioteca para computação científica em Python. Nos possibilita a realização de diversas manipulações numéricas através de seus arrays multidimensionais.\n",
        "\n",
        "Para a utilizarmos devemos primeiro importar ela em nosso código:"
      ],
      "metadata": {
        "id": "0sgpmAJR95nB"
      }
    },
    {
      "cell_type": "code",
      "execution_count": 1,
      "metadata": {
        "id": "PvogoKywz5ly"
      },
      "outputs": [],
      "source": [
        "import numpy as np"
      ]
    },
    {
      "cell_type": "markdown",
      "source": [
        "Usualmente é utilizado o alias \"np\" para nos referirmos ao numpy, porém isto não é estritamente necessário."
      ],
      "metadata": {
        "id": "UG9poaM52-Oj"
      }
    },
    {
      "cell_type": "markdown",
      "source": [
        "### Matplotlib\n",
        "Biblioteca para a visualização de dados em forma gráfica, será utilizada aqui para observamos visualmente as transformações matemáticas que realizaremos com o numpy."
      ],
      "metadata": {
        "id": "dF4iv0v69UY1"
      }
    },
    {
      "cell_type": "code",
      "source": [
        "import matplotlib.pyplot as plt\n",
        "%matplotlib inline"
      ],
      "metadata": {
        "id": "invFxxLq9xux"
      },
      "execution_count": 2,
      "outputs": []
    },
    {
      "cell_type": "markdown",
      "source": [
        "De forma semelhante, \"plt\" é o alias comumente utilizado com este módulo. A segunda linha do código certifica que grafícos sejam visíveis no caderno."
      ],
      "metadata": {
        "id": "KoOxyFw1-cvS"
      }
    },
    {
      "cell_type": "markdown",
      "source": [
        "### Arrays\n",
        "Podemos criar um array descrevendo uma lista diretamente ao método."
      ],
      "metadata": {
        "id": "U7P9Oq0R3Sqg"
      }
    },
    {
      "cell_type": "code",
      "source": [
        "fib = np.array([1, 1, 2, 3, 5, 8, 13, 21, 34, 55])\n",
        "print(fib)"
      ],
      "metadata": {
        "id": "OfbXawiA30E0",
        "colab": {
          "base_uri": "https://localhost:8080/"
        },
        "outputId": "9c653846-79a9-4572-dbbc-1043ababe352"
      },
      "execution_count": 3,
      "outputs": [
        {
          "output_type": "stream",
          "name": "stdout",
          "text": [
            "[ 1  1  2  3  5  8 13 21 34 55]\n"
          ]
        }
      ]
    },
    {
      "cell_type": "markdown",
      "source": [
        "A lista acima se trata de uma parte da sequência de Fibonacci. Através do uso do método plot, da Matplotlib, podemos visualizar esta sequência."
      ],
      "metadata": {
        "id": "8C4yJz1l_ju8"
      }
    },
    {
      "cell_type": "code",
      "source": [
        "x = np.array(range(10))\n",
        "plt.plot(x, fib)"
      ],
      "metadata": {
        "colab": {
          "base_uri": "https://localhost:8080/",
          "height": 447
        },
        "id": "zXfLgCgi_lFj",
        "outputId": "99ac97dc-bc06-41ad-c265-c0263c4294e6"
      },
      "execution_count": 4,
      "outputs": [
        {
          "output_type": "execute_result",
          "data": {
            "text/plain": [
              "[<matplotlib.lines.Line2D at 0x7d59fe4529b0>]"
            ]
          },
          "metadata": {},
          "execution_count": 4
        },
        {
          "output_type": "display_data",
          "data": {
            "text/plain": [
              "<Figure size 640x480 with 1 Axes>"
            ],
            "image/png": "[encoded data removed]"
          },
          "metadata": {}
        }
      ]
    },
    {
      "cell_type": "markdown",
      "source": [
        "Se por algum motivo necessitarmos multiplicar todos números deste array por um escalar, a biblioteca numpy nos permite isto."
      ],
      "metadata": {
        "id": "Kk-99VTJ8zOT"
      }
    },
    {
      "cell_type": "code",
      "source": [
        "print(fib * 2)"
      ],
      "metadata": {
        "colab": {
          "base_uri": "https://localhost:8080/"
        },
        "id": "-TTw81Mb8oyQ",
        "outputId": "dd3484fe-56a3-49ac-d7d0-41d3f218f285"
      },
      "execution_count": 5,
      "outputs": [
        {
          "output_type": "stream",
          "name": "stdout",
          "text": [
            "[  2   2   4   6  10  16  26  42  68 110]\n"
          ]
        }
      ]
    },
    {
      "cell_type": "markdown",
      "source": [
        "Também é possível realizarmos operações como essas em slices do array, e.g., digamos que queremos ver como gráfico da sequência se comporta quando os 5 primeiros termos dela são elevados ao quadrado."
      ],
      "metadata": {
        "id": "5Gyet5bAA-ki"
      }
    },
    {
      "cell_type": "code",
      "source": [
        "print(fib)\n",
        "a = fib[:5] # slice de fib\n",
        "print(a)\n",
        "\n",
        "a **= 2\n",
        "print(a)\n",
        "print(fib)"
      ],
      "metadata": {
        "colab": {
          "base_uri": "https://localhost:8080/"
        },
        "id": "_MNVtS5gwESl",
        "outputId": "98c42283-de40-4fbe-e2e4-051f0dd0ed61"
      },
      "execution_count": 6,
      "outputs": [
        {
          "output_type": "stream",
          "name": "stdout",
          "text": [
            "[ 1  1  2  3  5  8 13 21 34 55]\n",
            "[1 1 2 3 5]\n",
            "[ 1  1  4  9 25]\n",
            "[ 1  1  4  9 25  8 13 21 34 55]\n"
          ]
        }
      ]
    },
    {
      "cell_type": "markdown",
      "source": [
        "Acima podemos observar que quando manipulamos um slice de fib os dados originais também sofrem a mesma modificação, isto porque slices são apenas um visão particionada (em fatias) dos mesmos dados."
      ],
      "metadata": {
        "id": "uj6YMcrrDP0C"
      }
    },
    {
      "cell_type": "code",
      "source": [
        "plt.plot(x, fib)"
      ],
      "metadata": {
        "colab": {
          "base_uri": "https://localhost:8080/",
          "height": 447
        },
        "id": "fmnWTaN3C4vZ",
        "outputId": "7940b64f-68a6-4054-a32e-092e6beaa4af"
      },
      "execution_count": 7,
      "outputs": [
        {
          "output_type": "execute_result",
          "data": {
            "text/plain": [
              "[<matplotlib.lines.Line2D at 0x7d59fc3675b0>]"
            ]
          },
          "metadata": {},
          "execution_count": 7
        },
        {
          "output_type": "display_data",
          "data": {
            "text/plain": [
              "<Figure size 640x480 with 1 Axes>"
            ],
            "image/png": "[encoded data removed]"
          },
          "metadata": {}
        }
      ]
    },
    {
      "cell_type": "markdown",
      "source": [
        "### Arrays multidimensionais\n",
        "O array que tratamos até agora possuia apenas uma dimensão, sendo chamado de array de rank 1. Partimos agora para arrays multidimensionais.\n",
        "\n",
        "O método abaixo nos informa as dimensões de um dado array."
      ],
      "metadata": {
        "id": "3qbgJRsIJQME"
      }
    },
    {
      "cell_type": "code",
      "source": [
        "print(fib.shape) # 1 row and 10 columns"
      ],
      "metadata": {
        "colab": {
          "base_uri": "https://localhost:8080/"
        },
        "id": "JvSWzm11JadF",
        "outputId": "ff1d49d4-0427-4c21-a707-87008124815c"
      },
      "execution_count": 8,
      "outputs": [
        {
          "output_type": "stream",
          "name": "stdout",
          "text": [
            "(10,)\n"
          ]
        }
      ]
    },
    {
      "cell_type": "markdown",
      "source": [
        "Abaixo temos o exemplo de um array de rank 2, isto é, de 2 dimensões."
      ],
      "metadata": {
        "id": "Po_58jAeJwVe"
      }
    },
    {
      "cell_type": "code",
      "source": [
        "a = np.array([[1, 2, 3, 4], [2, 3, 1, 3]])\n",
        "print(a)\n",
        "print(a.shape) # 2 rows and 4 columns"
      ],
      "metadata": {
        "colab": {
          "base_uri": "https://localhost:8080/"
        },
        "id": "lnmz09l2Q9nQ",
        "outputId": "8f54be91-a952-4ad6-f9cb-aa223d7c4a72"
      },
      "execution_count": 9,
      "outputs": [
        {
          "output_type": "stream",
          "name": "stdout",
          "text": [
            "[[1 2 3 4]\n",
            " [2 3 1 3]]\n",
            "(2, 4)\n"
          ]
        }
      ]
    },
    {
      "cell_type": "markdown",
      "source": [
        "Facilmente realizamos a transposição dos dados acima."
      ],
      "metadata": {
        "id": "7oNSC6pGRUck"
      }
    },
    {
      "cell_type": "code",
      "source": [
        "a = a.T\n",
        "print(a)\n",
        "print(a.shape) # 4 rows and 2 columns"
      ],
      "metadata": {
        "colab": {
          "base_uri": "https://localhost:8080/"
        },
        "id": "H5eM9vqkRb95",
        "outputId": "a510e7cd-e8db-42cd-8aef-64ee6a723dba"
      },
      "execution_count": 10,
      "outputs": [
        {
          "output_type": "stream",
          "name": "stdout",
          "text": [
            "[[1 2]\n",
            " [2 3]\n",
            " [3 1]\n",
            " [4 3]]\n",
            "(4, 2)\n"
          ]
        }
      ]
    },
    {
      "cell_type": "markdown",
      "source": [
        "Abaixo segue um gráfico com os valores do novo 'a' como pares xy."
      ],
      "metadata": {
        "id": "BOiQ8KwCRikw"
      }
    },
    {
      "cell_type": "code",
      "source": [
        "plt.scatter(a[:, 0], a[:, 1])"
      ],
      "metadata": {
        "colab": {
          "base_uri": "https://localhost:8080/",
          "height": 447
        },
        "id": "W7AMFk5EM6Ws",
        "outputId": "d5988e76-2d53-463a-b8d5-9441926a1680"
      },
      "execution_count": 11,
      "outputs": [
        {
          "output_type": "execute_result",
          "data": {
            "text/plain": [
              "<matplotlib.collections.PathCollection at 0x7d59fc1d3fa0>"
            ]
          },
          "metadata": {},
          "execution_count": 11
        },
        {
          "output_type": "display_data",
          "data": {
            "text/plain": [
              "<Figure size 640x480 with 1 Axes>"
            ],
            "image/png": "[encoded data removed]"
          },
          "metadata": {}
        }
      ]
    }
  ]
}