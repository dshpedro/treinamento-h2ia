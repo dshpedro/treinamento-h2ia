{
  "nbformat": 4,
  "nbformat_minor": 0,
  "metadata": {
    "colab": {
      "provenance": [],
      "authorship_tag": "ABX9TyNaBUQi2x40ifeQWckS/3lt"
    },
    "kernelspec": {
      "name": "python3",
      "display_name": "Python 3"
    },
    "language_info": {
      "name": "python"
    }
  },
  "cells": [
    {
      "cell_type": "markdown",
      "source": [
        "# 0 - Pre-week\n",
        "### Numpy\n",
        "Numpy é uma biblioteca para computação científica em Python. Nos possibilita a realização de diversas manipulações numéricas através de seus arrays multidimensionais."
      ],
      "metadata": {
        "id": "Y6eseRYE0jlC"
      }
    },
    {
      "cell_type": "markdown",
      "source": [
        "### Importação"
      ],
      "metadata": {
        "id": "yqLLk9Hn34rM"
      }
    },
    {
      "cell_type": "markdown",
      "source": [
        "Para a utilizarmos devemos primeiro importar ela em nosso código:"
      ],
      "metadata": {
        "id": "39bNxRlZ2jv_"
      }
    },
    {
      "cell_type": "code",
      "execution_count": null,
      "metadata": {
        "id": "PvogoKywz5ly"
      },
      "outputs": [],
      "source": [
        "import numpy as np"
      ]
    },
    {
      "cell_type": "markdown",
      "source": [
        "Usualmente é utilizado o alias \"np\" para nos referirmos ao numpy, porém isto não é estritamente necessário."
      ],
      "metadata": {
        "id": "UG9poaM52-Oj"
      }
    },
    {
      "cell_type": "markdown",
      "source": [
        "### Arrays"
      ],
      "metadata": {
        "id": "U7P9Oq0R3Sqg"
      }
    },
    {
      "cell_type": "code",
      "source": [],
      "metadata": {
        "id": "OfbXawiA30E0"
      },
      "execution_count": null,
      "outputs": []
    }
  ]
}